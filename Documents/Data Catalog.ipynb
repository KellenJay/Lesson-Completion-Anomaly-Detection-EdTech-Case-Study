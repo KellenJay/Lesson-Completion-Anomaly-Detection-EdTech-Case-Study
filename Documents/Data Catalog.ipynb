{
 "cells": [
  {
   "cell_type": "markdown",
   "id": "99e816d0-3d47-44f5-8525-3272e87f623c",
   "metadata": {},
   "source": [
    "# Data Catalog\n",
    "\n",
    "## Overview\n",
    "This data is from an online platform with multiple educational programs. Programs consist of lessons, and students go through these lessons on the platform. \n",
    "\n",
    "---\n",
    "\n",
    "## 1. `finished_lesson_test`\n",
    "**Purpose**: Captures all completed lessons by users across different professions. Each row represents a student's completion of a specific lesson in a specific profession.\n",
    "\n",
    "### Table\n",
    "\n",
    "| Column Name    | Data Type   | Description                                                               |\n",
    "|----------------|-------------|---------------------------------------------------------------------------|\n",
    "| `id`           | BIGINT      | Unique identifier for each lesson completion record.                      |\n",
    "| `user_id`      | SMALLINT    | Unique identifier for the student completing the lesson.                  |\n",
    "| `lesson_id`    | SMALLINT    | Foreign key linking to the `dim_lessons` table.                           |\n",
    "| `date_created` | DATETIME    | Timestamp of when the lesson was marked complete by the user.             |\n",
    "\n",
    "---\n",
    "\n",
    "## 2. `lesson_index_test`\n",
    "**Purpose**: Stores metadata about all lessons offered on the platform. Used to enrich \"finished_lesson_test\" table with contextual lesson and profession information.\n",
    "\n",
    "### Table\n",
    "\n",
    "| Column Name       | Data Type     | Description                                                               |\n",
    "|-------------------|---------------|---------------------------------------------------------------------------|\n",
    "| `lesson_id`       | SMALLINT      | Primary key for each lesson.                                              |\n",
    "| `lesson_name`     | NVARCHAR(50)  | Human-readable name/title of the lesson.                                  |\n",
    "| `profession_id`   | TINYINT       | Identifier for the profession this lesson belongs to.                     |\n",
    "| `profession_name` | NVARCHAR(50)  | Name of the profession (e.g., `'data-analyst'`, `'software-engineer'`).  |"
   ]
  }
 ],
 "metadata": {
  "kernelspec": {
   "display_name": "Python [conda env:base] *",
   "language": "python",
   "name": "conda-base-py"
  },
  "language_info": {
   "codemirror_mode": {
    "name": "ipython",
    "version": 3
   },
   "file_extension": ".py",
   "mimetype": "text/x-python",
   "name": "python",
   "nbconvert_exporter": "python",
   "pygments_lexer": "ipython3",
   "version": "3.12.7"
  }
 },
 "nbformat": 4,
 "nbformat_minor": 5
}
